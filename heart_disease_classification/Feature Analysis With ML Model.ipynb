{
 "cells": [
  {
   "cell_type": "markdown",
   "metadata": {
    "id": "rT0CCpiwMa7p"
   },
   "source": [
    "#NOTE: this work is done in google collab "
   ]
  },
  {
   "cell_type": "code",
   "execution_count": 53,
   "metadata": {
    "colab": {
     "base_uri": "https://localhost:8080/"
    },
    "executionInfo": {
     "elapsed": 16046,
     "status": "ok",
     "timestamp": 1620057517013,
     "user": {
      "displayName": "Kuo Yang",
      "photoUrl": "https://lh3.googleusercontent.com/a-/AOh14GhvhHpgVc10_WkXJdd-l8czxL6YthTSeY7jzmZM=s64",
      "userId": "09688876434688467229"
     },
     "user_tz": 240
    },
    "id": "PBjLIgirawuq",
    "outputId": "c81fafa5-34bc-4a7d-9121-5d6c8ccb9907"
   },
   "outputs": [
    {
     "name": "stdout",
     "output_type": "stream",
     "text": [
      "Requirement already satisfied: eli5 in /usr/local/lib/python3.7/dist-packages (0.11.0)\n",
      "Requirement already satisfied: scikit-learn>=0.20 in /usr/local/lib/python3.7/dist-packages (from eli5) (0.22.2.post1)\n",
      "Requirement already satisfied: scipy in /usr/local/lib/python3.7/dist-packages (from eli5) (1.4.1)\n",
      "Requirement already satisfied: six in /usr/local/lib/python3.7/dist-packages (from eli5) (1.15.0)\n",
      "Requirement already satisfied: tabulate>=0.7.7 in /usr/local/lib/python3.7/dist-packages (from eli5) (0.8.9)\n",
      "Requirement already satisfied: graphviz in /usr/local/lib/python3.7/dist-packages (from eli5) (0.10.1)\n",
      "Requirement already satisfied: jinja2 in /usr/local/lib/python3.7/dist-packages (from eli5) (2.11.3)\n",
      "Requirement already satisfied: attrs>16.0.0 in /usr/local/lib/python3.7/dist-packages (from eli5) (20.3.0)\n",
      "Requirement already satisfied: numpy>=1.9.0 in /usr/local/lib/python3.7/dist-packages (from eli5) (1.19.5)\n",
      "Requirement already satisfied: joblib>=0.11 in /usr/local/lib/python3.7/dist-packages (from scikit-learn>=0.20->eli5) (1.0.1)\n",
      "Requirement already satisfied: MarkupSafe>=0.23 in /usr/local/lib/python3.7/dist-packages (from jinja2->eli5) (1.1.1)\n",
      "Requirement already satisfied: pdpbox in /usr/local/lib/python3.7/dist-packages (0.2.1)\n",
      "Requirement already satisfied: numpy in /usr/local/lib/python3.7/dist-packages (from pdpbox) (1.19.5)\n",
      "Requirement already satisfied: pandas in /usr/local/lib/python3.7/dist-packages (from pdpbox) (1.1.5)\n",
      "Requirement already satisfied: matplotlib==3.1.1 in /usr/local/lib/python3.7/dist-packages (from pdpbox) (3.1.1)\n",
      "Requirement already satisfied: joblib in /usr/local/lib/python3.7/dist-packages (from pdpbox) (1.0.1)\n",
      "Requirement already satisfied: psutil in /usr/local/lib/python3.7/dist-packages (from pdpbox) (5.4.8)\n",
      "Requirement already satisfied: scipy in /usr/local/lib/python3.7/dist-packages (from pdpbox) (1.4.1)\n",
      "Requirement already satisfied: sklearn in /usr/local/lib/python3.7/dist-packages (from pdpbox) (0.0)\n",
      "Requirement already satisfied: python-dateutil>=2.7.3 in /usr/local/lib/python3.7/dist-packages (from pandas->pdpbox) (2.8.1)\n",
      "Requirement already satisfied: pytz>=2017.2 in /usr/local/lib/python3.7/dist-packages (from pandas->pdpbox) (2018.9)\n",
      "Requirement already satisfied: cycler>=0.10 in /usr/local/lib/python3.7/dist-packages (from matplotlib==3.1.1->pdpbox) (0.10.0)\n",
      "Requirement already satisfied: kiwisolver>=1.0.1 in /usr/local/lib/python3.7/dist-packages (from matplotlib==3.1.1->pdpbox) (1.3.1)\n",
      "Requirement already satisfied: pyparsing!=2.0.4,!=2.1.2,!=2.1.6,>=2.0.1 in /usr/local/lib/python3.7/dist-packages (from matplotlib==3.1.1->pdpbox) (2.4.7)\n",
      "Requirement already satisfied: scikit-learn in /usr/local/lib/python3.7/dist-packages (from sklearn->pdpbox) (0.22.2.post1)\n",
      "Requirement already satisfied: six>=1.5 in /usr/local/lib/python3.7/dist-packages (from python-dateutil>=2.7.3->pandas->pdpbox) (1.15.0)\n",
      "Collecting shap\n",
      "\u001b[?25l  Downloading https://files.pythonhosted.org/packages/b9/f4/c5b95cddae15be80f8e58b25edceca105aa83c0b8c86a1edad24a6af80d3/shap-0.39.0.tar.gz (356kB)\n",
      "\u001b[K     |████████████████████████████████| 358kB 662kB/s \n",
      "\u001b[?25hRequirement already satisfied: numpy in /usr/local/lib/python3.7/dist-packages (from shap) (1.19.5)\n",
      "Requirement already satisfied: scipy in /usr/local/lib/python3.7/dist-packages (from shap) (1.4.1)\n",
      "Requirement already satisfied: scikit-learn in /usr/local/lib/python3.7/dist-packages (from shap) (0.22.2.post1)\n",
      "Requirement already satisfied: pandas in /usr/local/lib/python3.7/dist-packages (from shap) (1.1.5)\n",
      "Requirement already satisfied: tqdm>4.25.0 in /usr/local/lib/python3.7/dist-packages (from shap) (4.41.1)\n",
      "Collecting slicer==0.0.7\n",
      "  Downloading https://files.pythonhosted.org/packages/78/c2/b3f55dfdb8af9812fdb9baf70cacf3b9e82e505b2bd4324d588888b81202/slicer-0.0.7-py3-none-any.whl\n",
      "Requirement already satisfied: numba in /usr/local/lib/python3.7/dist-packages (from shap) (0.51.2)\n",
      "Requirement already satisfied: cloudpickle in /usr/local/lib/python3.7/dist-packages (from shap) (1.3.0)\n",
      "Requirement already satisfied: joblib>=0.11 in /usr/local/lib/python3.7/dist-packages (from scikit-learn->shap) (1.0.1)\n",
      "Requirement already satisfied: python-dateutil>=2.7.3 in /usr/local/lib/python3.7/dist-packages (from pandas->shap) (2.8.1)\n",
      "Requirement already satisfied: pytz>=2017.2 in /usr/local/lib/python3.7/dist-packages (from pandas->shap) (2018.9)\n",
      "Requirement already satisfied: setuptools in /usr/local/lib/python3.7/dist-packages (from numba->shap) (56.0.0)\n",
      "Requirement already satisfied: llvmlite<0.35,>=0.34.0.dev0 in /usr/local/lib/python3.7/dist-packages (from numba->shap) (0.34.0)\n",
      "Requirement already satisfied: six>=1.5 in /usr/local/lib/python3.7/dist-packages (from python-dateutil>=2.7.3->pandas->shap) (1.15.0)\n",
      "Building wheels for collected packages: shap\n",
      "  Building wheel for shap (setup.py) ... \u001b[?25l\u001b[?25hdone\n",
      "  Created wheel for shap: filename=shap-0.39.0-cp37-cp37m-linux_x86_64.whl size=491616 sha256=4250c2e08120e53d7d7babdad3dcc4de38cd0e5b4dcbd7f4c7d5d999f7342ce8\n",
      "  Stored in directory: /root/.cache/pip/wheels/15/27/f5/a8ab9da52fd159aae6477b5ede6eaaec69fd130fa0fa59f283\n",
      "Successfully built shap\n",
      "Installing collected packages: slicer, shap\n",
      "Successfully installed shap-0.39.0 slicer-0.0.7\n"
     ]
    }
   ],
   "source": [
    "!pip install eli5\n",
    "!pip install pdpbox\n",
    "!pip install shap"
   ]
  },
  {
   "cell_type": "code",
   "execution_count": 54,
   "metadata": {
    "executionInfo": {
     "elapsed": 16974,
     "status": "ok",
     "timestamp": 1620057520731,
     "user": {
      "displayName": "Kuo Yang",
      "photoUrl": "https://lh3.googleusercontent.com/a-/AOh14GhvhHpgVc10_WkXJdd-l8czxL6YthTSeY7jzmZM=s64",
      "userId": "09688876434688467229"
     },
     "user_tz": 240
    },
    "id": "GnqpHCVOWq8U"
   },
   "outputs": [],
   "source": [
    "import pickle\n",
    "import pandas as pd\n",
    "import numpy as np\n",
    "import seaborn as sns\n",
    "import matplotlib.pyplot as plt\n",
    "\n",
    "import xgboost as xgb\n",
    "from xgboost import XGBClassifier\n",
    "\n",
    "from sklearn.neural_network import MLPClassifier\n",
    "from sklearn.metrics import confusion_matrix, roc_auc_score, average_precision_score, roc_curve, precision_recall_curve, accuracy_score\n",
    "from sklearn import preprocessing\n",
    "from sklearn.model_selection import train_test_split, GridSearchCV\n",
    "\n",
    "import eli5\n",
    "from eli5.sklearn import PermutationImportance\n",
    "from pdpbox import pdp, get_dataset, info_plots\n",
    "import shap\n",
    "\n",
    "sns.set_theme(style=\"darkgrid\")"
   ]
  },
  {
   "cell_type": "markdown",
   "metadata": {
    "id": "RYDQJe92WsP_"
   },
   "source": [
    "# Load Data & Best Models"
   ]
  },
  {
   "cell_type": "code",
   "execution_count": 5,
   "metadata": {
    "executionInfo": {
     "elapsed": 1697,
     "status": "ok",
     "timestamp": 1620052701128,
     "user": {
      "displayName": "Kuo Yang",
      "photoUrl": "https://lh3.googleusercontent.com/a-/AOh14GhvhHpgVc10_WkXJdd-l8czxL6YthTSeY7jzmZM=s64",
      "userId": "09688876434688467229"
     },
     "user_tz": 240
    },
    "id": "s2rJeKUzMnrZ"
   },
   "outputs": [],
   "source": [
    "root='/content/drive/MyDrive/ML Project/heart_disease'\n",
    "raw_train = pd.read_csv(f'{root}/train.csv')\n",
    "raw_target = pd.read_csv(f'{root}/target.csv')\n",
    "\n",
    "tmp_file=open(f\"{root}/complete_data_dict.pkl\", \"rb\")\n",
    "complete_dict_data=pickle.load(tmp_file)"
   ]
  },
  {
   "cell_type": "code",
   "execution_count": 6,
   "metadata": {
    "executionInfo": {
     "elapsed": 2006,
     "status": "ok",
     "timestamp": 1620052701451,
     "user": {
      "displayName": "Kuo Yang",
      "photoUrl": "https://lh3.googleusercontent.com/a-/AOh14GhvhHpgVc10_WkXJdd-l8czxL6YthTSeY7jzmZM=s64",
      "userId": "09688876434688467229"
     },
     "user_tz": 240
    },
    "id": "iBo7LidaL3Bt"
   },
   "outputs": [],
   "source": [
    "\"\"\"load mlp model\"\"\"\n",
    "temp_file=open(f\"{root}/mlp_params.pkl\", \"rb\")\n",
    "best_params_mlp, best_scores_mlp, best_model_mlp, best_matrix_mlp, best_roc_mlp, best_pre_rec_mlp = pickle.load(temp_file)"
   ]
  },
  {
   "cell_type": "code",
   "execution_count": 7,
   "metadata": {
    "executionInfo": {
     "elapsed": 2408,
     "status": "ok",
     "timestamp": 1620052701864,
     "user": {
      "displayName": "Kuo Yang",
      "photoUrl": "https://lh3.googleusercontent.com/a-/AOh14GhvhHpgVc10_WkXJdd-l8czxL6YthTSeY7jzmZM=s64",
      "userId": "09688876434688467229"
     },
     "user_tz": 240
    },
    "id": "rvlMG1uHXKmh"
   },
   "outputs": [],
   "source": [
    "\"\"\"load xgb model\"\"\"\n",
    "temp_file=open(f\"{root}/xgb_best_params.pkl\", \"rb\")\n",
    "best_params_xgb, best_scores_xgb, best_model_xgb, best_matrix_xgb, best_roc_xgb, best_pre_rec_xgb = pickle.load(temp_file)"
   ]
  },
  {
   "cell_type": "code",
   "execution_count": 8,
   "metadata": {
    "colab": {
     "base_uri": "https://localhost:8080/"
    },
    "executionInfo": {
     "elapsed": 2403,
     "status": "ok",
     "timestamp": 1620052701865,
     "user": {
      "displayName": "Kuo Yang",
      "photoUrl": "https://lh3.googleusercontent.com/a-/AOh14GhvhHpgVc10_WkXJdd-l8czxL6YthTSeY7jzmZM=s64",
      "userId": "09688876434688467229"
     },
     "user_tz": 240
    },
    "id": "cljYE1t-XL5H",
    "outputId": "33139b8d-14e7-41c0-d180-d43c4d99427e"
   },
   "outputs": [
    {
     "data": {
      "text/plain": [
       "GridSearchCV(cv=5, error_score=nan,\n",
       "             estimator=XGBClassifier(base_score=0.5, booster='gbtree',\n",
       "                                     colsample_bylevel=1, colsample_bynode=1,\n",
       "                                     colsample_bytree=1, gamma=0,\n",
       "                                     learning_rate=0.1, max_delta_step=0,\n",
       "                                     max_depth=3, min_child_weight=1,\n",
       "                                     missing=nan, n_estimators=100, n_jobs=1,\n",
       "                                     nthread=None, objective='binary:logistic',\n",
       "                                     random_state=123, reg_alpha=0,\n",
       "                                     reg_lambda=1, scale_p...\n",
       "             iid=None, n_jobs=-1,\n",
       "             param_grid={'base_score': [0.1, 0.2, 0.3, 0.5], 'gamma': [0.001],\n",
       "                         'importance_type': ['gain'],\n",
       "                         'learning_rate': [0.1, 0.01, 0.001],\n",
       "                         'max_depth': [2, 3, 5],\n",
       "                         'n_estimators': [100, 200, 500],\n",
       "                         'reg_alpha': [0.1, 0.2, 0.3],\n",
       "                         'reg_lambda': [0.1, 0.2, 0.3],\n",
       "                         'scale_pos_weight': [0.836, 1, 1.5]},\n",
       "             pre_dispatch='2*n_jobs', refit=True, return_train_score=False,\n",
       "             scoring='accuracy', verbose=True)"
      ]
     },
     "execution_count": 8,
     "metadata": {
      "tags": []
     },
     "output_type": "execute_result"
    }
   ],
   "source": [
    "scaler_xgb='max_min_data'\n",
    "xgb_model = best_model_xgb[scaler_xgb]\n",
    "xgb_model"
   ]
  },
  {
   "cell_type": "code",
   "execution_count": 8,
   "metadata": {
    "executionInfo": {
     "elapsed": 2402,
     "status": "ok",
     "timestamp": 1620052701866,
     "user": {
      "displayName": "Kuo Yang",
      "photoUrl": "https://lh3.googleusercontent.com/a-/AOh14GhvhHpgVc10_WkXJdd-l8czxL6YthTSeY7jzmZM=s64",
      "userId": "09688876434688467229"
     },
     "user_tz": 240
    },
    "id": "vwpv9eKWYoj9"
   },
   "outputs": [],
   "source": []
  },
  {
   "cell_type": "markdown",
   "metadata": {
    "id": "3zJI6STga_cW"
   },
   "source": [
    "# Permutation Importance Analysis"
   ]
  },
  {
   "cell_type": "code",
   "execution_count": 19,
   "metadata": {
    "colab": {
     "base_uri": "https://localhost:8080/"
    },
    "executionInfo": {
     "elapsed": 394,
     "status": "ok",
     "timestamp": 1620052796646,
     "user": {
      "displayName": "Kuo Yang",
      "photoUrl": "https://lh3.googleusercontent.com/a-/AOh14GhvhHpgVc10_WkXJdd-l8czxL6YthTSeY7jzmZM=s64",
      "userId": "09688876434688467229"
     },
     "user_tz": 240
    },
    "id": "AKjUmps4g0n9",
    "outputId": "0ead30f4-6c62-4961-befe-1de01edc91c6"
   },
   "outputs": [
    {
     "data": {
      "text/plain": [
       "{'activation': 'logistic',\n",
       " 'alpha': 0.01,\n",
       " 'batch_size': 100,\n",
       " 'hidden_layer_sizes': 200,\n",
       " 'max_iter': 400}"
      ]
     },
     "execution_count": 19,
     "metadata": {
      "tags": []
     },
     "output_type": "execute_result"
    }
   ],
   "source": [
    "\"\"\"load best mlp model\"\"\"\n",
    "scaler_mlp='standardized_data'\n",
    "X_train_mlp, X_test_mlp, y_train_mlp, y_test_mlp = train_test_split(complete_dict_data[scaler_mlp], raw_target, train_size=0.7, random_state=123, shuffle=True)\n",
    "best_params_mlp[scaler_mlp]"
   ]
  },
  {
   "cell_type": "code",
   "execution_count": 20,
   "metadata": {
    "colab": {
     "base_uri": "https://localhost:8080/"
    },
    "executionInfo": {
     "elapsed": 1208,
     "status": "ok",
     "timestamp": 1620052805706,
     "user": {
      "displayName": "Kuo Yang",
      "photoUrl": "https://lh3.googleusercontent.com/a-/AOh14GhvhHpgVc10_WkXJdd-l8czxL6YthTSeY7jzmZM=s64",
      "userId": "09688876434688467229"
     },
     "user_tz": 240
    },
    "id": "MdkDkA3khPwd",
    "outputId": "dfbe182f-fd08-4119-a295-31a37f0b08fc"
   },
   "outputs": [
    {
     "name": "stdout",
     "output_type": "stream",
     "text": [
      "Iteration 1, loss = 0.66297701\n",
      "Iteration 2, loss = 0.65237688\n",
      "Iteration 3, loss = 0.64216268\n",
      "Iteration 4, loss = 0.63244896\n",
      "Iteration 5, loss = 0.62296261\n",
      "Iteration 6, loss = 0.61414490\n",
      "Iteration 7, loss = 0.60513830\n",
      "Iteration 8, loss = 0.59636549\n",
      "Iteration 9, loss = 0.58772051\n",
      "Iteration 10, loss = 0.57934509\n",
      "Iteration 11, loss = 0.57030528\n",
      "Iteration 12, loss = 0.56165778\n",
      "Iteration 13, loss = 0.55398262\n",
      "Iteration 14, loss = 0.54581245\n",
      "Iteration 15, loss = 0.53783333\n",
      "Iteration 16, loss = 0.52986808\n",
      "Iteration 17, loss = 0.52234704\n",
      "Iteration 18, loss = 0.51489114\n",
      "Iteration 19, loss = 0.50730926\n",
      "Iteration 20, loss = 0.50018101\n",
      "Iteration 21, loss = 0.49318022\n",
      "Iteration 22, loss = 0.48585636\n",
      "Iteration 23, loss = 0.47912885\n",
      "Iteration 24, loss = 0.47211604\n",
      "Iteration 25, loss = 0.46593942\n",
      "Iteration 26, loss = 0.45966831\n",
      "Iteration 27, loss = 0.45371350\n",
      "Iteration 28, loss = 0.44736102\n",
      "Iteration 29, loss = 0.44215303\n",
      "Iteration 30, loss = 0.43613248\n",
      "Iteration 31, loss = 0.43141176\n",
      "Iteration 32, loss = 0.42587852\n",
      "Iteration 33, loss = 0.42147809\n",
      "Iteration 34, loss = 0.41662831\n",
      "Iteration 35, loss = 0.41246388\n",
      "Iteration 36, loss = 0.40842484\n",
      "Iteration 37, loss = 0.40438563\n",
      "Iteration 38, loss = 0.40058293\n",
      "Iteration 39, loss = 0.39707823\n",
      "Iteration 40, loss = 0.39359189\n",
      "Iteration 41, loss = 0.39044548\n",
      "Iteration 42, loss = 0.38737354\n",
      "Iteration 43, loss = 0.38481966\n",
      "Iteration 44, loss = 0.38185101\n",
      "Iteration 45, loss = 0.37931127\n",
      "Iteration 46, loss = 0.37696451\n",
      "Iteration 47, loss = 0.37477629\n",
      "Iteration 48, loss = 0.37265042\n",
      "Iteration 49, loss = 0.37062918\n",
      "Iteration 50, loss = 0.36894985\n",
      "Iteration 51, loss = 0.36702689\n",
      "Iteration 52, loss = 0.36532944\n",
      "Iteration 53, loss = 0.36378254\n",
      "Iteration 54, loss = 0.36218151\n",
      "Iteration 55, loss = 0.36092530\n",
      "Iteration 56, loss = 0.35973882\n",
      "Iteration 57, loss = 0.35826633\n",
      "Iteration 58, loss = 0.35733732\n",
      "Iteration 59, loss = 0.35616228\n",
      "Iteration 60, loss = 0.35510940\n",
      "Iteration 61, loss = 0.35412049\n",
      "Iteration 62, loss = 0.35317323\n",
      "Iteration 63, loss = 0.35238437\n",
      "Iteration 64, loss = 0.35160569\n",
      "Iteration 65, loss = 0.35069218\n",
      "Iteration 66, loss = 0.34997995\n",
      "Iteration 67, loss = 0.34922369\n",
      "Iteration 68, loss = 0.34850314\n",
      "Iteration 69, loss = 0.34787789\n",
      "Iteration 70, loss = 0.34721746\n",
      "Iteration 71, loss = 0.34669852\n",
      "Iteration 72, loss = 0.34606677\n",
      "Iteration 73, loss = 0.34558081\n",
      "Iteration 74, loss = 0.34489408\n",
      "Iteration 75, loss = 0.34447546\n",
      "Iteration 76, loss = 0.34394811\n",
      "Iteration 77, loss = 0.34355781\n",
      "Iteration 78, loss = 0.34306408\n",
      "Iteration 79, loss = 0.34262193\n",
      "Iteration 80, loss = 0.34217914\n",
      "Iteration 81, loss = 0.34189541\n",
      "Iteration 82, loss = 0.34136624\n",
      "Iteration 83, loss = 0.34104239\n",
      "Iteration 84, loss = 0.34085147\n",
      "Iteration 85, loss = 0.34057386\n",
      "Iteration 86, loss = 0.34013136\n",
      "Iteration 87, loss = 0.33962788\n",
      "Iteration 88, loss = 0.33947963\n",
      "Iteration 89, loss = 0.33925459\n",
      "Iteration 90, loss = 0.33913951\n",
      "Iteration 91, loss = 0.33863869\n",
      "Iteration 92, loss = 0.33842084\n",
      "Iteration 93, loss = 0.33820482\n",
      "Iteration 94, loss = 0.33789413\n",
      "Iteration 95, loss = 0.33767681\n",
      "Iteration 96, loss = 0.33739646\n",
      "Iteration 97, loss = 0.33725919\n",
      "Iteration 98, loss = 0.33737187\n",
      "Iteration 99, loss = 0.33686763\n",
      "Iteration 100, loss = 0.33663292\n",
      "Iteration 101, loss = 0.33646527\n",
      "Iteration 102, loss = 0.33621009\n",
      "Iteration 103, loss = 0.33629932\n",
      "Iteration 104, loss = 0.33604888\n",
      "Iteration 105, loss = 0.33581219\n",
      "Iteration 106, loss = 0.33552335\n",
      "Iteration 107, loss = 0.33537358\n",
      "Iteration 108, loss = 0.33526941\n",
      "Iteration 109, loss = 0.33529234\n",
      "Iteration 110, loss = 0.33503278\n",
      "Iteration 111, loss = 0.33497017\n",
      "Iteration 112, loss = 0.33474872\n",
      "Iteration 113, loss = 0.33452483\n",
      "Iteration 114, loss = 0.33429762\n",
      "Iteration 115, loss = 0.33476608\n",
      "Iteration 116, loss = 0.33455506\n",
      "Iteration 117, loss = 0.33478185\n",
      "Iteration 118, loss = 0.33428538\n",
      "Iteration 119, loss = 0.33420161\n",
      "Iteration 120, loss = 0.33429800\n",
      "Iteration 121, loss = 0.33370621\n",
      "Iteration 122, loss = 0.33354653\n",
      "Iteration 123, loss = 0.33355887\n",
      "Iteration 124, loss = 0.33330871\n",
      "Iteration 125, loss = 0.33326062\n",
      "Iteration 126, loss = 0.33307985\n",
      "Iteration 127, loss = 0.33315728\n",
      "Iteration 128, loss = 0.33307982\n",
      "Iteration 129, loss = 0.33304828\n",
      "Iteration 130, loss = 0.33282913\n",
      "Iteration 131, loss = 0.33274327\n",
      "Iteration 132, loss = 0.33264261\n",
      "Iteration 133, loss = 0.33254499\n",
      "Iteration 134, loss = 0.33246941\n",
      "Iteration 135, loss = 0.33241863\n",
      "Iteration 136, loss = 0.33248442\n",
      "Iteration 137, loss = 0.33219899\n",
      "Iteration 138, loss = 0.33255894\n",
      "Iteration 139, loss = 0.33227658\n",
      "Iteration 140, loss = 0.33196554\n",
      "Iteration 141, loss = 0.33194118\n",
      "Iteration 142, loss = 0.33209603\n",
      "Iteration 143, loss = 0.33186402\n",
      "Iteration 144, loss = 0.33189778\n",
      "Iteration 145, loss = 0.33180099\n",
      "Iteration 146, loss = 0.33186823\n",
      "Iteration 147, loss = 0.33170526\n",
      "Iteration 148, loss = 0.33153996\n",
      "Iteration 149, loss = 0.33163868\n",
      "Iteration 150, loss = 0.33142794\n",
      "Iteration 151, loss = 0.33168692\n",
      "Iteration 152, loss = 0.33136215\n",
      "Iteration 153, loss = 0.33152364\n",
      "Iteration 154, loss = 0.33121037\n",
      "Iteration 155, loss = 0.33160592\n",
      "Iteration 156, loss = 0.33106937\n",
      "Iteration 157, loss = 0.33099070\n",
      "Iteration 158, loss = 0.33100097\n",
      "Iteration 159, loss = 0.33117102\n",
      "Iteration 160, loss = 0.33139591\n",
      "Iteration 161, loss = 0.33143339\n",
      "Iteration 162, loss = 0.33170128\n",
      "Iteration 163, loss = 0.33147725\n",
      "Iteration 164, loss = 0.33105942\n",
      "Iteration 165, loss = 0.33066087\n",
      "Iteration 166, loss = 0.33070645\n",
      "Iteration 167, loss = 0.33084222\n",
      "Iteration 168, loss = 0.33101115\n",
      "Iteration 169, loss = 0.33115366\n",
      "Iteration 170, loss = 0.33112248\n",
      "Iteration 171, loss = 0.33120428\n",
      "Iteration 172, loss = 0.33090961\n",
      "Iteration 173, loss = 0.33050210\n",
      "Iteration 174, loss = 0.33047087\n",
      "Iteration 175, loss = 0.33057886\n",
      "Iteration 176, loss = 0.33065548\n",
      "Iteration 177, loss = 0.33036966\n",
      "Iteration 178, loss = 0.33036469\n",
      "Iteration 179, loss = 0.33034821\n",
      "Iteration 180, loss = 0.33055835\n",
      "Iteration 181, loss = 0.33037497\n",
      "Iteration 182, loss = 0.33109775\n",
      "Iteration 183, loss = 0.33025945\n",
      "Iteration 184, loss = 0.33016218\n",
      "Iteration 185, loss = 0.33018948\n",
      "Iteration 186, loss = 0.33037647\n",
      "Iteration 187, loss = 0.33015811\n",
      "Iteration 188, loss = 0.33016676\n",
      "Iteration 189, loss = 0.33021415\n",
      "Iteration 190, loss = 0.33005000\n",
      "Iteration 191, loss = 0.33001040\n",
      "Iteration 192, loss = 0.32996031\n",
      "Iteration 193, loss = 0.33046373\n",
      "Iteration 194, loss = 0.33026538\n",
      "Iteration 195, loss = 0.32997165\n",
      "Iteration 196, loss = 0.33005360\n",
      "Iteration 197, loss = 0.33002195\n",
      "Iteration 198, loss = 0.32992819\n",
      "Iteration 199, loss = 0.33036863\n",
      "Iteration 200, loss = 0.32977000\n",
      "Iteration 201, loss = 0.32981986\n",
      "Iteration 202, loss = 0.32974046\n",
      "Iteration 203, loss = 0.32968516\n",
      "Iteration 204, loss = 0.32986063\n",
      "Iteration 205, loss = 0.32967752\n",
      "Iteration 206, loss = 0.32980977\n",
      "Iteration 207, loss = 0.32960186\n",
      "Iteration 208, loss = 0.32980087\n",
      "Iteration 209, loss = 0.32983209\n",
      "Iteration 210, loss = 0.32974995\n",
      "Iteration 211, loss = 0.32968030\n",
      "Iteration 212, loss = 0.32974013\n",
      "Iteration 213, loss = 0.32972057\n",
      "Iteration 214, loss = 0.32960514\n",
      "Iteration 215, loss = 0.32956040\n",
      "Iteration 216, loss = 0.33009113\n",
      "Training loss did not improve more than tol=0.000100 for 15 consecutive epochs. Stopping.\n"
     ]
    }
   ],
   "source": [
    "mlp_classifier = MLPClassifier(\n",
    "    solver='adam',\n",
    "    learning_rate='adaptive',\n",
    "    learning_rate_init=0.001,\n",
    "    shuffle=True,\n",
    "    random_state=123,\n",
    "    tol=1e-4,\n",
    "    verbose=True,\n",
    "    warm_start=False, \n",
    "    validation_fraction=0.1,\n",
    "    n_iter_no_change=15,\n",
    "    activation='logistic',\n",
    "    alpha=0.01,\n",
    "    batch_size=100,\n",
    "    hidden_layer_sizes=(200,),\n",
    "    max_iter=400)\n",
    "mlp_classifier = mlp_classifier.fit(X_train_mlp, y_train_mlp)"
   ]
  },
  {
   "cell_type": "code",
   "execution_count": 21,
   "metadata": {
    "colab": {
     "base_uri": "https://localhost:8080/"
    },
    "executionInfo": {
     "elapsed": 383,
     "status": "ok",
     "timestamp": 1620052819856,
     "user": {
      "displayName": "Kuo Yang",
      "photoUrl": "https://lh3.googleusercontent.com/a-/AOh14GhvhHpgVc10_WkXJdd-l8czxL6YthTSeY7jzmZM=s64",
      "userId": "09688876434688467229"
     },
     "user_tz": 240
    },
    "id": "JFQ44EBzY7tG",
    "outputId": "f34c9a57-2aaa-4075-d637-bdf433a61334"
   },
   "outputs": [
    {
     "name": "stdout",
     "output_type": "stream",
     "text": [
      "0.8405797101449275\n"
     ]
    }
   ],
   "source": [
    "print(accuracy_score(y_test_mlp, mlp_classifier.predict(X_test_mlp)))"
   ]
  },
  {
   "cell_type": "code",
   "execution_count": 12,
   "metadata": {
    "colab": {
     "base_uri": "https://localhost:8080/"
    },
    "executionInfo": {
     "elapsed": 1620,
     "status": "ok",
     "timestamp": 1620052704994,
     "user": {
      "displayName": "Kuo Yang",
      "photoUrl": "https://lh3.googleusercontent.com/a-/AOh14GhvhHpgVc10_WkXJdd-l8czxL6YthTSeY7jzmZM=s64",
      "userId": "09688876434688467229"
     },
     "user_tz": 240
    },
    "id": "j4nEA531i3-t",
    "outputId": "cfe96e97-bd2d-4125-c2af-40e895f3dfc6"
   },
   "outputs": [
    {
     "name": "stdout",
     "output_type": "stream",
     "text": [
      "{'accuracy': 0.8405797101449275, 'precision': 0.7857142857142857, 'recall': 0.9428571428571428, 'f1-score': 0.8571428571428571, 'auc': 0.8390756302521009, 'avg_precision_score': 0.7698018337769891}\n"
     ]
    }
   ],
   "source": [
    "print(best_scores_mlp[scaler_mlp])"
   ]
  },
  {
   "cell_type": "code",
   "execution_count": 69,
   "metadata": {
    "colab": {
     "base_uri": "https://localhost:8080/"
    },
    "executionInfo": {
     "elapsed": 301,
     "status": "ok",
     "timestamp": 1620057954589,
     "user": {
      "displayName": "Kuo Yang",
      "photoUrl": "https://lh3.googleusercontent.com/a-/AOh14GhvhHpgVc10_WkXJdd-l8czxL6YthTSeY7jzmZM=s64",
      "userId": "09688876434688467229"
     },
     "user_tz": 240
    },
    "id": "KK-eXJIRcPuy",
    "outputId": "d937012f-7756-4184-aa07-f3cbf49ec3d8"
   },
   "outputs": [
    {
     "data": {
      "text/plain": [
       "{'base_score': 0.2,\n",
       " 'gamma': 0.001,\n",
       " 'importance_type': 'gain',\n",
       " 'learning_rate': 0.1,\n",
       " 'max_depth': 5,\n",
       " 'n_estimators': 100,\n",
       " 'reg_alpha': 0.1,\n",
       " 'reg_lambda': 0.1,\n",
       " 'scale_pos_weight': 1.5}"
      ]
     },
     "execution_count": 69,
     "metadata": {
      "tags": []
     },
     "output_type": "execute_result"
    }
   ],
   "source": [
    "\"\"\"load best xgb model\"\"\"\n",
    "scaler_xgb='max_min_data'\n",
    "X_train_xgb, X_test_xgb, y_train_xgb, y_test_xgb = train_test_split(complete_dict_data[scaler_xgb], raw_target, train_size=0.7, random_state=123, shuffle=True)\n",
    "best_params_xgb[scaler_xgb]"
   ]
  },
  {
   "cell_type": "code",
   "execution_count": 107,
   "metadata": {
    "executionInfo": {
     "elapsed": 317,
     "status": "ok",
     "timestamp": 1620059319473,
     "user": {
      "displayName": "Kuo Yang",
      "photoUrl": "https://lh3.googleusercontent.com/a-/AOh14GhvhHpgVc10_WkXJdd-l8czxL6YthTSeY7jzmZM=s64",
      "userId": "09688876434688467229"
     },
     "user_tz": 240
    },
    "id": "puC5pf9dcQEe"
   },
   "outputs": [],
   "source": [
    "xgb_classifier = XGBClassifier(objective='binary:logistic', \n",
    "                              booster='gbtree', tree_method='auto', \n",
    "                              subsample=1,  \n",
    "                              random_state=123,\n",
    "                              base_score=0.2,\n",
    "                              gamma=0.001,\n",
    "                              importance_type='gain',\n",
    "                              learning_rate=0.1,\n",
    "                              max_depth=5,\n",
    "                              n_estimators=100,\n",
    "                              reg_alpha=0.1,\n",
    "                              reg_lambda=0.1,\n",
    "                              scale_pos_weight=1.5)\n",
    "xgb_classifer = xgb_classifier.fit(X_train, y_train)"
   ]
  },
  {
   "cell_type": "code",
   "execution_count": 108,
   "metadata": {
    "colab": {
     "base_uri": "https://localhost:8080/"
    },
    "executionInfo": {
     "elapsed": 264,
     "status": "ok",
     "timestamp": 1620059320325,
     "user": {
      "displayName": "Kuo Yang",
      "photoUrl": "https://lh3.googleusercontent.com/a-/AOh14GhvhHpgVc10_WkXJdd-l8czxL6YthTSeY7jzmZM=s64",
      "userId": "09688876434688467229"
     },
     "user_tz": 240
    },
    "id": "HxT42MEMlV-u",
    "outputId": "018164a3-52e4-42f5-bb28-99e20d1740ec"
   },
   "outputs": [
    {
     "data": {
      "text/plain": [
       "0.8405797101449275"
      ]
     },
     "execution_count": 108,
     "metadata": {
      "tags": []
     },
     "output_type": "execute_result"
    }
   ],
   "source": [
    "accuracy_score(y_test_xgb, xgb_classifier.predict(X_test_xgb))"
   ]
  },
  {
   "cell_type": "code",
   "execution_count": 109,
   "metadata": {
    "colab": {
     "base_uri": "https://localhost:8080/"
    },
    "executionInfo": {
     "elapsed": 156,
     "status": "ok",
     "timestamp": 1620059320827,
     "user": {
      "displayName": "Kuo Yang",
      "photoUrl": "https://lh3.googleusercontent.com/a-/AOh14GhvhHpgVc10_WkXJdd-l8czxL6YthTSeY7jzmZM=s64",
      "userId": "09688876434688467229"
     },
     "user_tz": 240
    },
    "id": "SUDxkiqimCfn",
    "outputId": "4d6a7019-a7d9-4ca6-ed29-3108aac6a6e2"
   },
   "outputs": [
    {
     "data": {
      "text/plain": [
       "{'accuracy': 0.8405797101449275,\n",
       " 'auc': 0.8386554621848739,\n",
       " 'avg_precision_score': 0.765142104272539,\n",
       " 'f1-score': 0.8607594936708862,\n",
       " 'precision': 0.7727272727272727,\n",
       " 'recall': 0.9714285714285714}"
      ]
     },
     "execution_count": 109,
     "metadata": {
      "tags": []
     },
     "output_type": "execute_result"
    }
   ],
   "source": [
    "best_scores_xgb[scaler_xgb]"
   ]
  },
  {
   "cell_type": "code",
   "execution_count": 17,
   "metadata": {
    "colab": {
     "base_uri": "https://localhost:8080/",
     "height": 233
    },
    "executionInfo": {
     "elapsed": 1851,
     "status": "ok",
     "timestamp": 1620052705245,
     "user": {
      "displayName": "Kuo Yang",
      "photoUrl": "https://lh3.googleusercontent.com/a-/AOh14GhvhHpgVc10_WkXJdd-l8czxL6YthTSeY7jzmZM=s64",
      "userId": "09688876434688467229"
     },
     "user_tz": 240
    },
    "id": "jac9CMIsbDJA",
    "outputId": "ff5ddf29-b7c8-4e78-b9f2-7ba7afcdff00"
   },
   "outputs": [
    {
     "data": {
      "text/html": [
       "\n",
       "    <style>\n",
       "    table.eli5-weights tr:hover {\n",
       "        filter: brightness(85%);\n",
       "    }\n",
       "</style>\n",
       "\n",
       "\n",
       "\n",
       "    \n",
       "\n",
       "    \n",
       "\n",
       "    \n",
       "\n",
       "    \n",
       "\n",
       "    \n",
       "\n",
       "    \n",
       "\n",
       "\n",
       "    \n",
       "\n",
       "    \n",
       "\n",
       "    \n",
       "\n",
       "    \n",
       "\n",
       "    \n",
       "\n",
       "    \n",
       "\n",
       "\n",
       "    \n",
       "\n",
       "    \n",
       "\n",
       "    \n",
       "\n",
       "    \n",
       "\n",
       "    \n",
       "        <table class=\"eli5-weights eli5-feature-importances\" style=\"border-collapse: collapse; border: none; margin-top: 0em; table-layout: auto;\">\n",
       "    <thead>\n",
       "    <tr style=\"border: none;\">\n",
       "        <th style=\"padding: 0 1em 0 0.5em; text-align: right; border: none;\">Weight</th>\n",
       "        <th style=\"padding: 0 0.5em 0 0.5em; text-align: left; border: none;\">Feature</th>\n",
       "    </tr>\n",
       "    </thead>\n",
       "    <tbody>\n",
       "    \n",
       "        <tr style=\"background-color: hsl(120, 100.00%, 80.00%); border: none;\">\n",
       "            <td style=\"padding: 0 1em 0 0.5em; text-align: right; border: none;\">\n",
       "                0.1014\n",
       "                \n",
       "                    &plusmn; 0.0485\n",
       "                \n",
       "            </td>\n",
       "            <td style=\"padding: 0 0.5em 0 0.5em; text-align: left; border: none;\">\n",
       "                ca\n",
       "            </td>\n",
       "        </tr>\n",
       "    \n",
       "        <tr style=\"background-color: hsl(120, 100.00%, 84.64%); border: none;\">\n",
       "            <td style=\"padding: 0 1em 0 0.5em; text-align: right; border: none;\">\n",
       "                0.0696\n",
       "                \n",
       "                    &plusmn; 0.0646\n",
       "                \n",
       "            </td>\n",
       "            <td style=\"padding: 0 0.5em 0 0.5em; text-align: left; border: none;\">\n",
       "                thal\n",
       "            </td>\n",
       "        </tr>\n",
       "    \n",
       "        <tr style=\"background-color: hsl(120, 100.00%, 84.64%); border: none;\">\n",
       "            <td style=\"padding: 0 1em 0 0.5em; text-align: right; border: none;\">\n",
       "                0.0696\n",
       "                \n",
       "                    &plusmn; 0.0591\n",
       "                \n",
       "            </td>\n",
       "            <td style=\"padding: 0 0.5em 0 0.5em; text-align: left; border: none;\">\n",
       "                cp\n",
       "            </td>\n",
       "        </tr>\n",
       "    \n",
       "        <tr style=\"background-color: hsl(120, 100.00%, 85.55%); border: none;\">\n",
       "            <td style=\"padding: 0 1em 0 0.5em; text-align: right; border: none;\">\n",
       "                0.0638\n",
       "                \n",
       "                    &plusmn; 0.0832\n",
       "                \n",
       "            </td>\n",
       "            <td style=\"padding: 0 0.5em 0 0.5em; text-align: left; border: none;\">\n",
       "                sex\n",
       "            </td>\n",
       "        </tr>\n",
       "    \n",
       "        <tr style=\"background-color: hsl(120, 100.00%, 88.44%); border: none;\">\n",
       "            <td style=\"padding: 0 1em 0 0.5em; text-align: right; border: none;\">\n",
       "                0.0464\n",
       "                \n",
       "                    &plusmn; 0.0338\n",
       "                \n",
       "            </td>\n",
       "            <td style=\"padding: 0 0.5em 0 0.5em; text-align: left; border: none;\">\n",
       "                trestbps\n",
       "            </td>\n",
       "        </tr>\n",
       "    \n",
       "        <tr style=\"background-color: hsl(120, 100.00%, 89.47%); border: none;\">\n",
       "            <td style=\"padding: 0 1em 0 0.5em; text-align: right; border: none;\">\n",
       "                0.0406\n",
       "                \n",
       "                    &plusmn; 0.0338\n",
       "                \n",
       "            </td>\n",
       "            <td style=\"padding: 0 0.5em 0 0.5em; text-align: left; border: none;\">\n",
       "                slope\n",
       "            </td>\n",
       "        </tr>\n",
       "    \n",
       "        <tr style=\"background-color: hsl(120, 100.00%, 90.55%); border: none;\">\n",
       "            <td style=\"padding: 0 1em 0 0.5em; text-align: right; border: none;\">\n",
       "                0.0348\n",
       "                \n",
       "                    &plusmn; 0.0296\n",
       "                \n",
       "            </td>\n",
       "            <td style=\"padding: 0 0.5em 0 0.5em; text-align: left; border: none;\">\n",
       "                chol\n",
       "            </td>\n",
       "        </tr>\n",
       "    \n",
       "        <tr style=\"background-color: hsl(120, 100.00%, 91.68%); border: none;\">\n",
       "            <td style=\"padding: 0 1em 0 0.5em; text-align: right; border: none;\">\n",
       "                0.0290\n",
       "                \n",
       "                    &plusmn; 0.0318\n",
       "                \n",
       "            </td>\n",
       "            <td style=\"padding: 0 0.5em 0 0.5em; text-align: left; border: none;\">\n",
       "                restecg\n",
       "            </td>\n",
       "        </tr>\n",
       "    \n",
       "        <tr style=\"background-color: hsl(120, 100.00%, 92.88%); border: none;\">\n",
       "            <td style=\"padding: 0 1em 0 0.5em; text-align: right; border: none;\">\n",
       "                0.0232\n",
       "                \n",
       "                    &plusmn; 0.0434\n",
       "                \n",
       "            </td>\n",
       "            <td style=\"padding: 0 0.5em 0 0.5em; text-align: left; border: none;\">\n",
       "                oldpeak\n",
       "            </td>\n",
       "        </tr>\n",
       "    \n",
       "        <tr style=\"background-color: hsl(120, 100.00%, 95.62%); border: none;\">\n",
       "            <td style=\"padding: 0 1em 0 0.5em; text-align: right; border: none;\">\n",
       "                0.0116\n",
       "                \n",
       "                    &plusmn; 0.0426\n",
       "                \n",
       "            </td>\n",
       "            <td style=\"padding: 0 0.5em 0 0.5em; text-align: left; border: none;\">\n",
       "                thalach\n",
       "            </td>\n",
       "        </tr>\n",
       "    \n",
       "        <tr style=\"background-color: hsl(120, 100.00%, 97.30%); border: none;\">\n",
       "            <td style=\"padding: 0 1em 0 0.5em; text-align: right; border: none;\">\n",
       "                0.0058\n",
       "                \n",
       "                    &plusmn; 0.0142\n",
       "                \n",
       "            </td>\n",
       "            <td style=\"padding: 0 0.5em 0 0.5em; text-align: left; border: none;\">\n",
       "                exang\n",
       "            </td>\n",
       "        </tr>\n",
       "    \n",
       "        <tr style=\"background-color: hsl(120, 100.00%, 98.34%); border: none;\">\n",
       "            <td style=\"padding: 0 1em 0 0.5em; text-align: right; border: none;\">\n",
       "                0.0029\n",
       "                \n",
       "                    &plusmn; 0.0385\n",
       "                \n",
       "            </td>\n",
       "            <td style=\"padding: 0 0.5em 0 0.5em; text-align: left; border: none;\">\n",
       "                age\n",
       "            </td>\n",
       "        </tr>\n",
       "    \n",
       "    \n",
       "    </tbody>\n",
       "</table>\n",
       "    \n",
       "\n",
       "    \n",
       "\n",
       "\n",
       "    \n",
       "\n",
       "    \n",
       "\n",
       "    \n",
       "\n",
       "    \n",
       "\n",
       "    \n",
       "\n",
       "    \n",
       "\n",
       "\n",
       "\n"
      ],
      "text/plain": [
       "<IPython.core.display.HTML object>"
      ]
     },
     "execution_count": 17,
     "metadata": {
      "tags": []
     },
     "output_type": "execute_result"
    }
   ],
   "source": [
    "\"\"\"\n",
    "age: The person's age in years\n",
    "sex: The person's sex (1 = male, 0 = female)\n",
    "cp: The chest pain experienced (Value 1: typical angina, Value 2: atypical angina, Value 3: non-anginal pain, Value 4: asymptomatic)\n",
    "trestbps: The person's resting blood pressure (mm Hg on admission to the hospital)\n",
    "chol: The person's cholesterol measurement in mg/dl\n",
    "fbs: The person's fasting blood sugar (> 120 mg/dl, 1 = true; 0 = false)\n",
    "restecg: Resting electrocardiographic measurement (0 = normal, 1 = having ST-T wave abnormality, 2 = showing probable or definite left ventricular hypertrophy by Estes' criteria)\n",
    "thalach: The person's maximum heart rate achieved\n",
    "exang: Exercise induced angina (1 = yes; 0 = no)\n",
    "oldpeak: ST depression induced by exercise relative to rest ('ST' relates to positions on the ECG plot. See more here)\n",
    "slope: the slope of the peak exercise ST segment (Value 1: upsloping, Value 2: flat, Value 3: downsloping)\n",
    "ca: The number of major vessels (0-3)\n",
    "thal: A blood disorder called thalassemia (3 = normal; 6 = fixed defect; 7 = reversable defect)\n",
    "target: Heart disease (0 = no, 1 = yes)\n",
    "\"\"\"\n",
    "\"\"\"feature importance with mlp model\"\"\"\n",
    "perm_mlp = PermutationImportance(mlp_classifier, random_state=1).fit(X_test, y_test)\n",
    "eli5.show_weights(perm_mlp, feature_names = raw_train.columns.values)"
   ]
  },
  {
   "cell_type": "code",
   "execution_count": 18,
   "metadata": {
    "colab": {
     "base_uri": "https://localhost:8080/",
     "height": 238
    },
    "executionInfo": {
     "elapsed": 1849,
     "status": "ok",
     "timestamp": 1620052705246,
     "user": {
      "displayName": "Kuo Yang",
      "photoUrl": "https://lh3.googleusercontent.com/a-/AOh14GhvhHpgVc10_WkXJdd-l8czxL6YthTSeY7jzmZM=s64",
      "userId": "09688876434688467229"
     },
     "user_tz": 240
    },
    "id": "fTERvGbpmEdt",
    "outputId": "76a99548-db54-4f7b-c848-25e0213fba6d"
   },
   "outputs": [
    {
     "data": {
      "text/html": [
       "\n",
       "    <style>\n",
       "    table.eli5-weights tr:hover {\n",
       "        filter: brightness(85%);\n",
       "    }\n",
       "</style>\n",
       "\n",
       "\n",
       "\n",
       "    \n",
       "\n",
       "    \n",
       "\n",
       "    \n",
       "\n",
       "    \n",
       "\n",
       "    \n",
       "\n",
       "    \n",
       "\n",
       "\n",
       "    \n",
       "\n",
       "    \n",
       "\n",
       "    \n",
       "\n",
       "    \n",
       "\n",
       "    \n",
       "\n",
       "    \n",
       "\n",
       "\n",
       "    \n",
       "\n",
       "    \n",
       "\n",
       "    \n",
       "\n",
       "    \n",
       "\n",
       "    \n",
       "        <table class=\"eli5-weights eli5-feature-importances\" style=\"border-collapse: collapse; border: none; margin-top: 0em; table-layout: auto;\">\n",
       "    <thead>\n",
       "    <tr style=\"border: none;\">\n",
       "        <th style=\"padding: 0 1em 0 0.5em; text-align: right; border: none;\">Weight</th>\n",
       "        <th style=\"padding: 0 0.5em 0 0.5em; text-align: left; border: none;\">Feature</th>\n",
       "    </tr>\n",
       "    </thead>\n",
       "    <tbody>\n",
       "    \n",
       "        <tr style=\"background-color: hsl(120, 100.00%, 80.00%); border: none;\">\n",
       "            <td style=\"padding: 0 1em 0 0.5em; text-align: right; border: none;\">\n",
       "                0.1014\n",
       "                \n",
       "                    &plusmn; 0.0318\n",
       "                \n",
       "            </td>\n",
       "            <td style=\"padding: 0 0.5em 0 0.5em; text-align: left; border: none;\">\n",
       "                age\n",
       "            </td>\n",
       "        </tr>\n",
       "    \n",
       "        <tr style=\"background-color: hsl(120, 100.00%, 80.40%); border: none;\">\n",
       "            <td style=\"padding: 0 1em 0 0.5em; text-align: right; border: none;\">\n",
       "                0.0986\n",
       "                \n",
       "                    &plusmn; 0.0591\n",
       "                \n",
       "            </td>\n",
       "            <td style=\"padding: 0 0.5em 0 0.5em; text-align: left; border: none;\">\n",
       "                cp\n",
       "            </td>\n",
       "        </tr>\n",
       "    \n",
       "        <tr style=\"background-color: hsl(120, 100.00%, 84.64%); border: none;\">\n",
       "            <td style=\"padding: 0 1em 0 0.5em; text-align: right; border: none;\">\n",
       "                0.0696\n",
       "                \n",
       "                    &plusmn; 0.0426\n",
       "                \n",
       "            </td>\n",
       "            <td style=\"padding: 0 0.5em 0 0.5em; text-align: left; border: none;\">\n",
       "                thal\n",
       "            </td>\n",
       "        </tr>\n",
       "    \n",
       "        <tr style=\"background-color: hsl(120, 100.00%, 88.95%); border: none;\">\n",
       "            <td style=\"padding: 0 1em 0 0.5em; text-align: right; border: none;\">\n",
       "                0.0435\n",
       "                \n",
       "                    &plusmn; 0.0000\n",
       "                \n",
       "            </td>\n",
       "            <td style=\"padding: 0 0.5em 0 0.5em; text-align: left; border: none;\">\n",
       "                thalach\n",
       "            </td>\n",
       "        </tr>\n",
       "    \n",
       "        <tr style=\"background-color: hsl(120, 100.00%, 88.95%); border: none;\">\n",
       "            <td style=\"padding: 0 1em 0 0.5em; text-align: right; border: none;\">\n",
       "                0.0435\n",
       "                \n",
       "                    &plusmn; 0.0756\n",
       "                \n",
       "            </td>\n",
       "            <td style=\"padding: 0 0.5em 0 0.5em; text-align: left; border: none;\">\n",
       "                oldpeak\n",
       "            </td>\n",
       "        </tr>\n",
       "    \n",
       "        <tr style=\"background-color: hsl(120, 100.00%, 89.47%); border: none;\">\n",
       "            <td style=\"padding: 0 1em 0 0.5em; text-align: right; border: none;\">\n",
       "                0.0406\n",
       "                \n",
       "                    &plusmn; 0.0217\n",
       "                \n",
       "            </td>\n",
       "            <td style=\"padding: 0 0.5em 0 0.5em; text-align: left; border: none;\">\n",
       "                chol\n",
       "            </td>\n",
       "        </tr>\n",
       "    \n",
       "        <tr style=\"background-color: hsl(120, 100.00%, 90.55%); border: none;\">\n",
       "            <td style=\"padding: 0 1em 0 0.5em; text-align: right; border: none;\">\n",
       "                0.0348\n",
       "                \n",
       "                    &plusmn; 0.0296\n",
       "                \n",
       "            </td>\n",
       "            <td style=\"padding: 0 0.5em 0 0.5em; text-align: left; border: none;\">\n",
       "                trestbps\n",
       "            </td>\n",
       "        </tr>\n",
       "    \n",
       "        <tr style=\"background-color: hsl(120, 100.00%, 90.55%); border: none;\">\n",
       "            <td style=\"padding: 0 1em 0 0.5em; text-align: right; border: none;\">\n",
       "                0.0348\n",
       "                \n",
       "                    &plusmn; 0.0393\n",
       "                \n",
       "            </td>\n",
       "            <td style=\"padding: 0 0.5em 0 0.5em; text-align: left; border: none;\">\n",
       "                sex\n",
       "            </td>\n",
       "        </tr>\n",
       "    \n",
       "        <tr style=\"background-color: hsl(120, 100.00%, 91.10%); border: none;\">\n",
       "            <td style=\"padding: 0 1em 0 0.5em; text-align: right; border: none;\">\n",
       "                0.0319\n",
       "                \n",
       "                    &plusmn; 0.0217\n",
       "                \n",
       "            </td>\n",
       "            <td style=\"padding: 0 0.5em 0 0.5em; text-align: left; border: none;\">\n",
       "                slope\n",
       "            </td>\n",
       "        </tr>\n",
       "    \n",
       "        <tr style=\"background-color: hsl(120, 100.00%, 92.27%); border: none;\">\n",
       "            <td style=\"padding: 0 1em 0 0.5em; text-align: right; border: none;\">\n",
       "                0.0261\n",
       "                \n",
       "                    &plusmn; 0.0619\n",
       "                \n",
       "            </td>\n",
       "            <td style=\"padding: 0 0.5em 0 0.5em; text-align: left; border: none;\">\n",
       "                ca\n",
       "            </td>\n",
       "        </tr>\n",
       "    \n",
       "        <tr style=\"background-color: hsl(120, 100.00%, 92.27%); border: none;\">\n",
       "            <td style=\"padding: 0 1em 0 0.5em; text-align: right; border: none;\">\n",
       "                0.0261\n",
       "                \n",
       "                    &plusmn; 0.0284\n",
       "                \n",
       "            </td>\n",
       "            <td style=\"padding: 0 0.5em 0 0.5em; text-align: left; border: none;\">\n",
       "                exang\n",
       "            </td>\n",
       "        </tr>\n",
       "    \n",
       "        <tr style=\"background-color: hsl(120, 100.00%, 96.42%); border: none;\">\n",
       "            <td style=\"padding: 0 1em 0 0.5em; text-align: right; border: none;\">\n",
       "                0.0087\n",
       "                \n",
       "                    &plusmn; 0.0434\n",
       "                \n",
       "            </td>\n",
       "            <td style=\"padding: 0 0.5em 0 0.5em; text-align: left; border: none;\">\n",
       "                restecg\n",
       "            </td>\n",
       "        </tr>\n",
       "    \n",
       "    \n",
       "    </tbody>\n",
       "</table>\n",
       "    \n",
       "\n",
       "    \n",
       "\n",
       "\n",
       "    \n",
       "\n",
       "    \n",
       "\n",
       "    \n",
       "\n",
       "    \n",
       "\n",
       "    \n",
       "\n",
       "    \n",
       "\n",
       "\n",
       "\n"
      ],
      "text/plain": [
       "<IPython.core.display.HTML object>"
      ]
     },
     "execution_count": 18,
     "metadata": {
      "tags": []
     },
     "output_type": "execute_result"
    }
   ],
   "source": [
    "\"\"\"feature importance with xgb model\"\"\"\n",
    "perm_xgb = PermutationImportance(xgb_classifier, random_state=1).fit(X_test, y_test)\n",
    "eli5.show_weights(perm_xgb, feature_names = raw_train.columns.values)"
   ]
  },
  {
   "cell_type": "code",
   "execution_count": 18,
   "metadata": {
    "executionInfo": {
     "elapsed": 2037,
     "status": "ok",
     "timestamp": 1620052705436,
     "user": {
      "displayName": "Kuo Yang",
      "photoUrl": "https://lh3.googleusercontent.com/a-/AOh14GhvhHpgVc10_WkXJdd-l8czxL6YthTSeY7jzmZM=s64",
      "userId": "09688876434688467229"
     },
     "user_tz": 240
    },
    "id": "M-rB9b8PmnUf"
   },
   "outputs": [],
   "source": []
  },
  {
   "cell_type": "markdown",
   "metadata": {
    "id": "4VoeI0Y0nUed"
   },
   "source": [
    "# Feature Importance With Partial Dependence Plot (MLP)"
   ]
  },
  {
   "cell_type": "code",
   "execution_count": 48,
   "metadata": {
    "colab": {
     "base_uri": "https://localhost:8080/",
     "height": 581
    },
    "executionInfo": {
     "elapsed": 1089,
     "status": "ok",
     "timestamp": 1620054354198,
     "user": {
      "displayName": "Kuo Yang",
      "photoUrl": "https://lh3.googleusercontent.com/a-/AOh14GhvhHpgVc10_WkXJdd-l8czxL6YthTSeY7jzmZM=s64",
      "userId": "09688876434688467229"
     },
     "user_tz": 240
    },
    "id": "xO1YBktbniWB",
    "outputId": "f0fa7a6f-1f56-4e69-b31d-3a8075a60dc7"
   },
   "outputs": [
    {
     "data": {
      "image/png": "[encoded data removed]",
      "text/plain": [
       "<Figure size 1080x684 with 2 Axes>"
      ]
     },
     "metadata": {
      "tags": []
     },
     "output_type": "display_data"
    }
   ],
   "source": [
    "\"\"\"PDP for feature 'ca' with MLP model \"\"\"\n",
    "feature_name='ca'\n",
    "pdp_mlp = pdp.pdp_isolate(model=mlp_classifier, dataset=raw_train, model_features=raw_train.columns.values, feature=feature_name)\n",
    "pdp.pdp_plot(pdp_mlp, feature_name)\n",
    "plt.show()"
   ]
  },
  {
   "cell_type": "code",
   "execution_count": 49,
   "metadata": {
    "colab": {
     "base_uri": "https://localhost:8080/",
     "height": 581
    },
    "executionInfo": {
     "elapsed": 969,
     "status": "ok",
     "timestamp": 1620054381247,
     "user": {
      "displayName": "Kuo Yang",
      "photoUrl": "https://lh3.googleusercontent.com/a-/AOh14GhvhHpgVc10_WkXJdd-l8czxL6YthTSeY7jzmZM=s64",
      "userId": "09688876434688467229"
     },
     "user_tz": 240
    },
    "id": "xzDbSl7vt1eI",
    "outputId": "17ba112e-0315-4a54-835a-3822c9a6968b"
   },
   "outputs": [
    {
     "data": {
      "image/png": "[encoded data removed]",
      "text/plain": [
       "<Figure size 1080x684 with 2 Axes>"
      ]
     },
     "metadata": {
      "tags": []
     },
     "output_type": "display_data"
    }
   ],
   "source": [
    "\"\"\"PDP for feature 'thal' with MLP model \"\"\"\n",
    "feature_name='thal'\n",
    "pdp_mlp = pdp.pdp_isolate(model=mlp_classifier, dataset=raw_train, model_features=raw_train.columns.values, feature=feature_name)\n",
    "pdp.pdp_plot(pdp_mlp, feature_name)\n",
    "plt.show()"
   ]
  },
  {
   "cell_type": "code",
   "execution_count": 50,
   "metadata": {
    "colab": {
     "base_uri": "https://localhost:8080/",
     "height": 581
    },
    "executionInfo": {
     "elapsed": 1061,
     "status": "ok",
     "timestamp": 1620054434898,
     "user": {
      "displayName": "Kuo Yang",
      "photoUrl": "https://lh3.googleusercontent.com/a-/AOh14GhvhHpgVc10_WkXJdd-l8czxL6YthTSeY7jzmZM=s64",
      "userId": "09688876434688467229"
     },
     "user_tz": 240
    },
    "id": "8LrKIxINwIo6",
    "outputId": "95c79c50-c9ed-48c3-d3d9-17f092ee3682"
   },
   "outputs": [
    {
     "data": {
      "image/png": "[encoded data removed]",
      "text/plain": [
       "<Figure size 1080x684 with 2 Axes>"
      ]
     },
     "metadata": {
      "tags": []
     },
     "output_type": "display_data"
    }
   ],
   "source": [
    "\"\"\"PDP for feature 'cp' with MLP model \"\"\"\n",
    "feature_name='cp'\n",
    "pdp_mlp = pdp.pdp_isolate(model=mlp_classifier, dataset=raw_train, model_features=raw_train.columns.values, feature=feature_name)\n",
    "pdp.pdp_plot(pdp_mlp, feature_name)\n",
    "plt.show()"
   ]
  },
  {
   "cell_type": "code",
   "execution_count": 51,
   "metadata": {
    "colab": {
     "base_uri": "https://localhost:8080/",
     "height": 581
    },
    "executionInfo": {
     "elapsed": 1058,
     "status": "ok",
     "timestamp": 1620054714141,
     "user": {
      "displayName": "Kuo Yang",
      "photoUrl": "https://lh3.googleusercontent.com/a-/AOh14GhvhHpgVc10_WkXJdd-l8czxL6YthTSeY7jzmZM=s64",
      "userId": "09688876434688467229"
     },
     "user_tz": 240
    },
    "id": "1A3t7vBkwXa2",
    "outputId": "f523d61d-d585-4cf9-e719-fb33d916226f"
   },
   "outputs": [
    {
     "data": {
      "image/png": "[encoded data removed]",
      "text/plain": [
       "<Figure size 1080x684 with 2 Axes>"
      ]
     },
     "metadata": {
      "tags": []
     },
     "output_type": "display_data"
    }
   ],
   "source": [
    "\"\"\"PDP for feature 'age' with MLP model \"\"\"\n",
    "feature_name='age'\n",
    "pdp_mlp = pdp.pdp_isolate(model=mlp_classifier, dataset=raw_train, model_features=raw_train.columns.values, feature=feature_name)\n",
    "pdp.pdp_plot(pdp_mlp, feature_name)\n",
    "plt.show()"
   ]
  },
  {
   "cell_type": "code",
   "execution_count": null,
   "metadata": {
    "id": "lSeOJSjQySK4"
   },
   "outputs": [],
   "source": []
  },
  {
   "cell_type": "markdown",
   "metadata": {
    "id": "I5Ivxil59EWa"
   },
   "source": [
    "# Feature Importance With SHAP (XGBoost)\n",
    "\n"
   ]
  },
  {
   "cell_type": "code",
   "execution_count": 123,
   "metadata": {
    "colab": {
     "base_uri": "https://localhost:8080/",
     "height": 410
    },
    "executionInfo": {
     "elapsed": 845,
     "status": "ok",
     "timestamp": 1620059582066,
     "user": {
      "displayName": "Kuo Yang",
      "photoUrl": "https://lh3.googleusercontent.com/a-/AOh14GhvhHpgVc10_WkXJdd-l8czxL6YthTSeY7jzmZM=s64",
      "userId": "09688876434688467229"
     },
     "user_tz": 240
    },
    "id": "mGNjNvKI9Hr7",
    "outputId": "b3f551f0-1032-46e3-f570-d2e8efcf9617"
   },
   "outputs": [
    {
     "data": {
      "image/png": "[encoded data removed]",
      "text/plain": [
       "<Figure size 576x453.6 with 1 Axes>"
      ]
     },
     "metadata": {
      "tags": []
     },
     "output_type": "display_data"
    }
   ],
   "source": [
    "\"\"\"\n",
    "age: The person's age in years\n",
    "sex: The person's sex (1 = male, 0 = female)\n",
    "cp: The chest pain experienced (Value 1: typical angina, Value 2: atypical angina, Value 3: non-anginal pain, Value 4: asymptomatic)\n",
    "trestbps: The person's resting blood pressure (mm Hg on admission to the hospital)\n",
    "chol: The person's cholesterol measurement in mg/dl\n",
    "fbs: The person's fasting blood sugar (> 120 mg/dl, 1 = true; 0 = false)\n",
    "restecg: Resting electrocardiographic measurement (0 = normal, 1 = having ST-T wave abnormality, 2 = showing probable or definite left ventricular hypertrophy by Estes' criteria)\n",
    "thalach: The person's maximum heart rate achieved\n",
    "exang: Exercise induced angina (1 = yes; 0 = no)\n",
    "oldpeak: ST depression induced by exercise relative to rest ('ST' relates to positions on the ECG plot. See more here)\n",
    "slope: the slope of the peak exercise ST segment (Value 1: upsloping, Value 2: flat, Value 3: downsloping)\n",
    "ca: The number of major vessels (0-3)\n",
    "thal: A blood disorder called thalassemia (3 = normal; 6 = fixed defect; 7 = reversable defect)\n",
    "target: Heart disease (0 = no, 1 = yes)\n",
    "\"\"\"\n",
    "explainer = shap.Explainer(xgb_classifier)\n",
    "shape_values = explainer.shap_values(pd.DataFrame(X_test, columns=raw_train.columns.values))\n",
    "shap.summary_plot(shap_values, pd.DataFrame(X_test, columns=raw_train.columns.values), plot_type=\"bar\")"
   ]
  },
  {
   "cell_type": "code",
   "execution_count": 124,
   "metadata": {
    "colab": {
     "base_uri": "https://localhost:8080/",
     "height": 414
    },
    "executionInfo": {
     "elapsed": 813,
     "status": "ok",
     "timestamp": 1620059585443,
     "user": {
      "displayName": "Kuo Yang",
      "photoUrl": "https://lh3.googleusercontent.com/a-/AOh14GhvhHpgVc10_WkXJdd-l8czxL6YthTSeY7jzmZM=s64",
      "userId": "09688876434688467229"
     },
     "user_tz": 240
    },
    "id": "3P3bvDDQD438",
    "outputId": "b008ca73-1a72-44ce-cf22-d66085c26530"
   },
   "outputs": [
    {
     "data": {
      "image/png": "[encoded data removed]",
      "text/plain": [
       "<Figure size 576x453.6 with 2 Axes>"
      ]
     },
     "metadata": {
      "tags": []
     },
     "output_type": "display_data"
    }
   ],
   "source": [
    "shap.summary_plot(shap_values, pd.DataFrame(X_test, columns=raw_train.columns.values))"
   ]
  },
  {
   "cell_type": "code",
   "execution_count": null,
   "metadata": {
    "id": "yR-na-4B-G4J"
   },
   "outputs": [],
   "source": []
  }
 ],
 "metadata": {
  "colab": {
   "authorship_tag": "ABX9TyNkxBrFdb+CmFbUdoT0L3Y+",
   "collapsed_sections": [],
   "machine_shape": "hm",
   "mount_file_id": "1UPxyh1nr_qPeIRkkM8Ti5iGIB00ejyYS",
   "name": "Feature Analysis With ML Model.ipynb",
   "provenance": []
  },
  "kernelspec": {
   "display_name": "Python 3",
   "language": "python",
   "name": "python3"
  },
  "language_info": {
   "codemirror_mode": {
    "name": "ipython",
    "version": 3
   },
   "file_extension": ".py",
   "mimetype": "text/x-python",
   "name": "python",
   "nbconvert_exporter": "python",
   "pygments_lexer": "ipython3",
   "version": "3.8.3"
  }
 },
 "nbformat": 4,
 "nbformat_minor": 1
}
